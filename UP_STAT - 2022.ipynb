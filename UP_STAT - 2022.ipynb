{
  "nbformat": 4,
  "nbformat_minor": 0,
  "metadata": {
    "colab": {
      "name": "UP-STAT.ipynb",
      "provenance": [],
      "collapsed_sections": []
    },
    "kernelspec": {
      "name": "python3",
      "display_name": "Python 3"
    },
    "language_info": {
      "name": "python"
    }
  },
  "cells": [
    {
      "cell_type": "code",
      "execution_count": 1,
      "metadata": {
        "id": "ga7X7d2O9308"
      },
      "outputs": [],
      "source": [
        "import pandas as pd\n",
        "import matplotlib.pyplot as plt\n"
      ]
    },
    {
      "cell_type": "code",
      "source": [
        "dataset = pd.read_csv('/content/drive/MyDrive/UP-STAT/CRDC2013_14_LEA.csv', encoding='cp1252')"
      ],
      "metadata": {
        "colab": {
          "base_uri": "https://localhost:8080/"
        },
        "id": "LBZMP_k8_J1W",
        "outputId": "3d48b9b5-cac5-460c-f7f3-4fa0ae640ea1"
      },
      "execution_count": 2,
      "outputs": [
        {
          "output_type": "stream",
          "name": "stderr",
          "text": [
            "/usr/local/lib/python3.7/dist-packages/IPython/core/interactiveshell.py:2882: DtypeWarning: Columns (1) have mixed types.Specify dtype option on import or set low_memory=False.\n",
            "  exec(code_obj, self.user_global_ns, self.user_ns)\n"
          ]
        }
      ]
    },
    {
      "cell_type": "code",
      "source": [
        "dataset.head()"
      ],
      "metadata": {
        "colab": {
          "base_uri": "https://localhost:8080/",
          "height": 421
        },
        "id": "eBF8lX1fA_0g",
        "outputId": "3b761523-8e38-43a9-b82b-356542a6123e"
      },
      "execution_count": 3,
      "outputs": [
        {
          "output_type": "execute_result",
          "data": {
            "text/plain": [
              "  LEA_STATE    LEAID                LEA_NAME                  LEA_ADDRESS  \\\n",
              "0        AL  0100002  ALABAMA YOUTH SERVICES  1000 INDUSTRIAL SCHOOL ROAD   \n",
              "1        AL  0100005        ALBERTVILLE CITY         107 WEST MAIN STREET   \n",
              "2        AL  0100006         MARSHALL COUNTY       12380 US HIGHWAY 431 S   \n",
              "3        AL  0100007             HOOVER CITY        2810 METROPOLITAN WAY   \n",
              "4        AL  0100008            MADISON CITY             211 CELTIC DRIVE   \n",
              "\n",
              "       LEA_CITY  LEA_ZIP LEA_JJ_IND  LEA_ENR  LEA_SCHOOLS LEA_CRCOORD_SEX_IND  \\\n",
              "0     MT. MEIGS    36057        YES     3674            3                 YES   \n",
              "1   ALBERTVILLE    35950         NO     4712            6                 YES   \n",
              "2  GUNTERSVILLE    35976         NO     5624           14                 YES   \n",
              "3        HOOVER    35243         NO    14054           16                 YES   \n",
              "4       MADISON    35758        YES     9206           11                 YES   \n",
              "\n",
              "   ... LEA_GEDCRED_WH_F LEA_GEDCRED_TR_M LEA_GEDCRED_TR_F TOT_GEDCRED_M  \\\n",
              "0  ...                0                0                0            16   \n",
              "1  ...               -9               -9               -9            -9   \n",
              "2  ...               -9               -9               -9            -9   \n",
              "3  ...               -9               -9               -9            -9   \n",
              "4  ...               -9               -9               -9            -9   \n",
              "\n",
              "  TOT_GEDCRED_F LEA_GEDCRED_LEP_M LEA_GEDCRED_LEP_F LEA_GEDCRED_IDEA_M  \\\n",
              "0             0                 0                 0                  0   \n",
              "1            -9                -9                -9                 -9   \n",
              "2            -9                -9                -9                 -9   \n",
              "3            -9                -9                -9                 -9   \n",
              "4            -9                -9                -9                 -9   \n",
              "\n",
              "  LEA_GEDCRED_IDEA_F DSO_LEA_GED_IND  \n",
              "0                  0               0  \n",
              "1                 -9               0  \n",
              "2                 -9               0  \n",
              "3                 -9               0  \n",
              "4                 -9               0  \n",
              "\n",
              "[5 rows x 79 columns]"
            ],
            "text/html": [
              "\n",
              "  <div id=\"df-3be9e9df-f6a1-4f67-b163-5e65a75f541c\">\n",
              "    <div class=\"colab-df-container\">\n",
              "      <div>\n",
              "<style scoped>\n",
              "    .dataframe tbody tr th:only-of-type {\n",
              "        vertical-align: middle;\n",
              "    }\n",
              "\n",
              "    .dataframe tbody tr th {\n",
              "        vertical-align: top;\n",
              "    }\n",
              "\n",
              "    .dataframe thead th {\n",
              "        text-align: right;\n",
              "    }\n",
              "</style>\n",
              "<table border=\"1\" class=\"dataframe\">\n",
              "  <thead>\n",
              "    <tr style=\"text-align: right;\">\n",
              "      <th></th>\n",
              "      <th>LEA_STATE</th>\n",
              "      <th>LEAID</th>\n",
              "      <th>LEA_NAME</th>\n",
              "      <th>LEA_ADDRESS</th>\n",
              "      <th>LEA_CITY</th>\n",
              "      <th>LEA_ZIP</th>\n",
              "      <th>LEA_JJ_IND</th>\n",
              "      <th>LEA_ENR</th>\n",
              "      <th>LEA_SCHOOLS</th>\n",
              "      <th>LEA_CRCOORD_SEX_IND</th>\n",
              "      <th>...</th>\n",
              "      <th>LEA_GEDCRED_WH_F</th>\n",
              "      <th>LEA_GEDCRED_TR_M</th>\n",
              "      <th>LEA_GEDCRED_TR_F</th>\n",
              "      <th>TOT_GEDCRED_M</th>\n",
              "      <th>TOT_GEDCRED_F</th>\n",
              "      <th>LEA_GEDCRED_LEP_M</th>\n",
              "      <th>LEA_GEDCRED_LEP_F</th>\n",
              "      <th>LEA_GEDCRED_IDEA_M</th>\n",
              "      <th>LEA_GEDCRED_IDEA_F</th>\n",
              "      <th>DSO_LEA_GED_IND</th>\n",
              "    </tr>\n",
              "  </thead>\n",
              "  <tbody>\n",
              "    <tr>\n",
              "      <th>0</th>\n",
              "      <td>AL</td>\n",
              "      <td>0100002</td>\n",
              "      <td>ALABAMA YOUTH SERVICES</td>\n",
              "      <td>1000 INDUSTRIAL SCHOOL ROAD</td>\n",
              "      <td>MT. MEIGS</td>\n",
              "      <td>36057</td>\n",
              "      <td>YES</td>\n",
              "      <td>3674</td>\n",
              "      <td>3</td>\n",
              "      <td>YES</td>\n",
              "      <td>...</td>\n",
              "      <td>0</td>\n",
              "      <td>0</td>\n",
              "      <td>0</td>\n",
              "      <td>16</td>\n",
              "      <td>0</td>\n",
              "      <td>0</td>\n",
              "      <td>0</td>\n",
              "      <td>0</td>\n",
              "      <td>0</td>\n",
              "      <td>0</td>\n",
              "    </tr>\n",
              "    <tr>\n",
              "      <th>1</th>\n",
              "      <td>AL</td>\n",
              "      <td>0100005</td>\n",
              "      <td>ALBERTVILLE CITY</td>\n",
              "      <td>107 WEST MAIN STREET</td>\n",
              "      <td>ALBERTVILLE</td>\n",
              "      <td>35950</td>\n",
              "      <td>NO</td>\n",
              "      <td>4712</td>\n",
              "      <td>6</td>\n",
              "      <td>YES</td>\n",
              "      <td>...</td>\n",
              "      <td>-9</td>\n",
              "      <td>-9</td>\n",
              "      <td>-9</td>\n",
              "      <td>-9</td>\n",
              "      <td>-9</td>\n",
              "      <td>-9</td>\n",
              "      <td>-9</td>\n",
              "      <td>-9</td>\n",
              "      <td>-9</td>\n",
              "      <td>0</td>\n",
              "    </tr>\n",
              "    <tr>\n",
              "      <th>2</th>\n",
              "      <td>AL</td>\n",
              "      <td>0100006</td>\n",
              "      <td>MARSHALL COUNTY</td>\n",
              "      <td>12380 US HIGHWAY 431 S</td>\n",
              "      <td>GUNTERSVILLE</td>\n",
              "      <td>35976</td>\n",
              "      <td>NO</td>\n",
              "      <td>5624</td>\n",
              "      <td>14</td>\n",
              "      <td>YES</td>\n",
              "      <td>...</td>\n",
              "      <td>-9</td>\n",
              "      <td>-9</td>\n",
              "      <td>-9</td>\n",
              "      <td>-9</td>\n",
              "      <td>-9</td>\n",
              "      <td>-9</td>\n",
              "      <td>-9</td>\n",
              "      <td>-9</td>\n",
              "      <td>-9</td>\n",
              "      <td>0</td>\n",
              "    </tr>\n",
              "    <tr>\n",
              "      <th>3</th>\n",
              "      <td>AL</td>\n",
              "      <td>0100007</td>\n",
              "      <td>HOOVER CITY</td>\n",
              "      <td>2810 METROPOLITAN WAY</td>\n",
              "      <td>HOOVER</td>\n",
              "      <td>35243</td>\n",
              "      <td>NO</td>\n",
              "      <td>14054</td>\n",
              "      <td>16</td>\n",
              "      <td>YES</td>\n",
              "      <td>...</td>\n",
              "      <td>-9</td>\n",
              "      <td>-9</td>\n",
              "      <td>-9</td>\n",
              "      <td>-9</td>\n",
              "      <td>-9</td>\n",
              "      <td>-9</td>\n",
              "      <td>-9</td>\n",
              "      <td>-9</td>\n",
              "      <td>-9</td>\n",
              "      <td>0</td>\n",
              "    </tr>\n",
              "    <tr>\n",
              "      <th>4</th>\n",
              "      <td>AL</td>\n",
              "      <td>0100008</td>\n",
              "      <td>MADISON CITY</td>\n",
              "      <td>211 CELTIC DRIVE</td>\n",
              "      <td>MADISON</td>\n",
              "      <td>35758</td>\n",
              "      <td>YES</td>\n",
              "      <td>9206</td>\n",
              "      <td>11</td>\n",
              "      <td>YES</td>\n",
              "      <td>...</td>\n",
              "      <td>-9</td>\n",
              "      <td>-9</td>\n",
              "      <td>-9</td>\n",
              "      <td>-9</td>\n",
              "      <td>-9</td>\n",
              "      <td>-9</td>\n",
              "      <td>-9</td>\n",
              "      <td>-9</td>\n",
              "      <td>-9</td>\n",
              "      <td>0</td>\n",
              "    </tr>\n",
              "  </tbody>\n",
              "</table>\n",
              "<p>5 rows × 79 columns</p>\n",
              "</div>\n",
              "      <button class=\"colab-df-convert\" onclick=\"convertToInteractive('df-3be9e9df-f6a1-4f67-b163-5e65a75f541c')\"\n",
              "              title=\"Convert this dataframe to an interactive table.\"\n",
              "              style=\"display:none;\">\n",
              "        \n",
              "  <svg xmlns=\"http://www.w3.org/2000/svg\" height=\"24px\"viewBox=\"0 0 24 24\"\n",
              "       width=\"24px\">\n",
              "    <path d=\"M0 0h24v24H0V0z\" fill=\"none\"/>\n",
              "    <path d=\"M18.56 5.44l.94 2.06.94-2.06 2.06-.94-2.06-.94-.94-2.06-.94 2.06-2.06.94zm-11 1L8.5 8.5l.94-2.06 2.06-.94-2.06-.94L8.5 2.5l-.94 2.06-2.06.94zm10 10l.94 2.06.94-2.06 2.06-.94-2.06-.94-.94-2.06-.94 2.06-2.06.94z\"/><path d=\"M17.41 7.96l-1.37-1.37c-.4-.4-.92-.59-1.43-.59-.52 0-1.04.2-1.43.59L10.3 9.45l-7.72 7.72c-.78.78-.78 2.05 0 2.83L4 21.41c.39.39.9.59 1.41.59.51 0 1.02-.2 1.41-.59l7.78-7.78 2.81-2.81c.8-.78.8-2.07 0-2.86zM5.41 20L4 18.59l7.72-7.72 1.47 1.35L5.41 20z\"/>\n",
              "  </svg>\n",
              "      </button>\n",
              "      \n",
              "  <style>\n",
              "    .colab-df-container {\n",
              "      display:flex;\n",
              "      flex-wrap:wrap;\n",
              "      gap: 12px;\n",
              "    }\n",
              "\n",
              "    .colab-df-convert {\n",
              "      background-color: #E8F0FE;\n",
              "      border: none;\n",
              "      border-radius: 50%;\n",
              "      cursor: pointer;\n",
              "      display: none;\n",
              "      fill: #1967D2;\n",
              "      height: 32px;\n",
              "      padding: 0 0 0 0;\n",
              "      width: 32px;\n",
              "    }\n",
              "\n",
              "    .colab-df-convert:hover {\n",
              "      background-color: #E2EBFA;\n",
              "      box-shadow: 0px 1px 2px rgba(60, 64, 67, 0.3), 0px 1px 3px 1px rgba(60, 64, 67, 0.15);\n",
              "      fill: #174EA6;\n",
              "    }\n",
              "\n",
              "    [theme=dark] .colab-df-convert {\n",
              "      background-color: #3B4455;\n",
              "      fill: #D2E3FC;\n",
              "    }\n",
              "\n",
              "    [theme=dark] .colab-df-convert:hover {\n",
              "      background-color: #434B5C;\n",
              "      box-shadow: 0px 1px 3px 1px rgba(0, 0, 0, 0.15);\n",
              "      filter: drop-shadow(0px 1px 2px rgba(0, 0, 0, 0.3));\n",
              "      fill: #FFFFFF;\n",
              "    }\n",
              "  </style>\n",
              "\n",
              "      <script>\n",
              "        const buttonEl =\n",
              "          document.querySelector('#df-3be9e9df-f6a1-4f67-b163-5e65a75f541c button.colab-df-convert');\n",
              "        buttonEl.style.display =\n",
              "          google.colab.kernel.accessAllowed ? 'block' : 'none';\n",
              "\n",
              "        async function convertToInteractive(key) {\n",
              "          const element = document.querySelector('#df-3be9e9df-f6a1-4f67-b163-5e65a75f541c');\n",
              "          const dataTable =\n",
              "            await google.colab.kernel.invokeFunction('convertToInteractive',\n",
              "                                                     [key], {});\n",
              "          if (!dataTable) return;\n",
              "\n",
              "          const docLinkHtml = 'Like what you see? Visit the ' +\n",
              "            '<a target=\"_blank\" href=https://colab.research.google.com/notebooks/data_table.ipynb>data table notebook</a>'\n",
              "            + ' to learn more about interactive tables.';\n",
              "          element.innerHTML = '';\n",
              "          dataTable['output_type'] = 'display_data';\n",
              "          await google.colab.output.renderOutput(dataTable, element);\n",
              "          const docLink = document.createElement('div');\n",
              "          docLink.innerHTML = docLinkHtml;\n",
              "          element.appendChild(docLink);\n",
              "        }\n",
              "      </script>\n",
              "    </div>\n",
              "  </div>\n",
              "  "
            ]
          },
          "metadata": {},
          "execution_count": 3
        }
      ]
    },
    {
      "cell_type": "code",
      "source": [
        "## Take LEA_NAME and LEA_ENR features from the dataset\n",
        "\n",
        "df = dataset[['LEA_NAME', 'LEA_ENR']]\n",
        "\n",
        "new_df = df.groupby(by = ['LEA_NAME'])['LEA_ENR'].sum()\n",
        "new_df = new_df.reset_index()\n",
        "new_df = new_df.sort_values(by = \"LEA_ENR\", ascending=False)"
      ],
      "metadata": {
        "id": "2Lzs6NDfBBNi"
      },
      "execution_count": 27,
      "outputs": []
    },
    {
      "cell_type": "code",
      "source": [
        "new_df = new_df.iloc[1:10,:]\n",
        "new_df"
      ],
      "metadata": {
        "colab": {
          "base_uri": "https://localhost:8080/",
          "height": 331
        },
        "id": "3Yw8DlaFBeIX",
        "outputId": "5e070f36-570a-466d-ce0d-14519f1641c1"
      },
      "execution_count": 29,
      "outputs": [
        {
          "output_type": "execute_result",
          "data": {
            "text/plain": [
              "                           LEA_NAME  LEA_ENR\n",
              "10016  NEW YORK CITY PUBLIC SCHOOLS  1032167\n",
              "8286            LOS ANGELES UNIFIED   603599\n",
              "2769         CITY OF CHICAGO SD 299   407219\n",
              "3517                           DADE   356192\n",
              "2803   CLARK COUNTY SCHOOL DISTRICT   320510\n",
              "1779                        BROWARD   262664\n",
              "6627                    HOUSTON ISD   211553\n",
              "6436                   HILLSBOROUGH   203294\n",
              "10749                        ORANGE   187477"
            ],
            "text/html": [
              "\n",
              "  <div id=\"df-460a98fb-129f-49e6-9bf9-1d60cf0de4ad\">\n",
              "    <div class=\"colab-df-container\">\n",
              "      <div>\n",
              "<style scoped>\n",
              "    .dataframe tbody tr th:only-of-type {\n",
              "        vertical-align: middle;\n",
              "    }\n",
              "\n",
              "    .dataframe tbody tr th {\n",
              "        vertical-align: top;\n",
              "    }\n",
              "\n",
              "    .dataframe thead th {\n",
              "        text-align: right;\n",
              "    }\n",
              "</style>\n",
              "<table border=\"1\" class=\"dataframe\">\n",
              "  <thead>\n",
              "    <tr style=\"text-align: right;\">\n",
              "      <th></th>\n",
              "      <th>LEA_NAME</th>\n",
              "      <th>LEA_ENR</th>\n",
              "    </tr>\n",
              "  </thead>\n",
              "  <tbody>\n",
              "    <tr>\n",
              "      <th>10016</th>\n",
              "      <td>NEW YORK CITY PUBLIC SCHOOLS</td>\n",
              "      <td>1032167</td>\n",
              "    </tr>\n",
              "    <tr>\n",
              "      <th>8286</th>\n",
              "      <td>LOS ANGELES UNIFIED</td>\n",
              "      <td>603599</td>\n",
              "    </tr>\n",
              "    <tr>\n",
              "      <th>2769</th>\n",
              "      <td>CITY OF CHICAGO SD 299</td>\n",
              "      <td>407219</td>\n",
              "    </tr>\n",
              "    <tr>\n",
              "      <th>3517</th>\n",
              "      <td>DADE</td>\n",
              "      <td>356192</td>\n",
              "    </tr>\n",
              "    <tr>\n",
              "      <th>2803</th>\n",
              "      <td>CLARK COUNTY SCHOOL DISTRICT</td>\n",
              "      <td>320510</td>\n",
              "    </tr>\n",
              "    <tr>\n",
              "      <th>1779</th>\n",
              "      <td>BROWARD</td>\n",
              "      <td>262664</td>\n",
              "    </tr>\n",
              "    <tr>\n",
              "      <th>6627</th>\n",
              "      <td>HOUSTON ISD</td>\n",
              "      <td>211553</td>\n",
              "    </tr>\n",
              "    <tr>\n",
              "      <th>6436</th>\n",
              "      <td>HILLSBOROUGH</td>\n",
              "      <td>203294</td>\n",
              "    </tr>\n",
              "    <tr>\n",
              "      <th>10749</th>\n",
              "      <td>ORANGE</td>\n",
              "      <td>187477</td>\n",
              "    </tr>\n",
              "  </tbody>\n",
              "</table>\n",
              "</div>\n",
              "      <button class=\"colab-df-convert\" onclick=\"convertToInteractive('df-460a98fb-129f-49e6-9bf9-1d60cf0de4ad')\"\n",
              "              title=\"Convert this dataframe to an interactive table.\"\n",
              "              style=\"display:none;\">\n",
              "        \n",
              "  <svg xmlns=\"http://www.w3.org/2000/svg\" height=\"24px\"viewBox=\"0 0 24 24\"\n",
              "       width=\"24px\">\n",
              "    <path d=\"M0 0h24v24H0V0z\" fill=\"none\"/>\n",
              "    <path d=\"M18.56 5.44l.94 2.06.94-2.06 2.06-.94-2.06-.94-.94-2.06-.94 2.06-2.06.94zm-11 1L8.5 8.5l.94-2.06 2.06-.94-2.06-.94L8.5 2.5l-.94 2.06-2.06.94zm10 10l.94 2.06.94-2.06 2.06-.94-2.06-.94-.94-2.06-.94 2.06-2.06.94z\"/><path d=\"M17.41 7.96l-1.37-1.37c-.4-.4-.92-.59-1.43-.59-.52 0-1.04.2-1.43.59L10.3 9.45l-7.72 7.72c-.78.78-.78 2.05 0 2.83L4 21.41c.39.39.9.59 1.41.59.51 0 1.02-.2 1.41-.59l7.78-7.78 2.81-2.81c.8-.78.8-2.07 0-2.86zM5.41 20L4 18.59l7.72-7.72 1.47 1.35L5.41 20z\"/>\n",
              "  </svg>\n",
              "      </button>\n",
              "      \n",
              "  <style>\n",
              "    .colab-df-container {\n",
              "      display:flex;\n",
              "      flex-wrap:wrap;\n",
              "      gap: 12px;\n",
              "    }\n",
              "\n",
              "    .colab-df-convert {\n",
              "      background-color: #E8F0FE;\n",
              "      border: none;\n",
              "      border-radius: 50%;\n",
              "      cursor: pointer;\n",
              "      display: none;\n",
              "      fill: #1967D2;\n",
              "      height: 32px;\n",
              "      padding: 0 0 0 0;\n",
              "      width: 32px;\n",
              "    }\n",
              "\n",
              "    .colab-df-convert:hover {\n",
              "      background-color: #E2EBFA;\n",
              "      box-shadow: 0px 1px 2px rgba(60, 64, 67, 0.3), 0px 1px 3px 1px rgba(60, 64, 67, 0.15);\n",
              "      fill: #174EA6;\n",
              "    }\n",
              "\n",
              "    [theme=dark] .colab-df-convert {\n",
              "      background-color: #3B4455;\n",
              "      fill: #D2E3FC;\n",
              "    }\n",
              "\n",
              "    [theme=dark] .colab-df-convert:hover {\n",
              "      background-color: #434B5C;\n",
              "      box-shadow: 0px 1px 3px 1px rgba(0, 0, 0, 0.15);\n",
              "      filter: drop-shadow(0px 1px 2px rgba(0, 0, 0, 0.3));\n",
              "      fill: #FFFFFF;\n",
              "    }\n",
              "  </style>\n",
              "\n",
              "      <script>\n",
              "        const buttonEl =\n",
              "          document.querySelector('#df-460a98fb-129f-49e6-9bf9-1d60cf0de4ad button.colab-df-convert');\n",
              "        buttonEl.style.display =\n",
              "          google.colab.kernel.accessAllowed ? 'block' : 'none';\n",
              "\n",
              "        async function convertToInteractive(key) {\n",
              "          const element = document.querySelector('#df-460a98fb-129f-49e6-9bf9-1d60cf0de4ad');\n",
              "          const dataTable =\n",
              "            await google.colab.kernel.invokeFunction('convertToInteractive',\n",
              "                                                     [key], {});\n",
              "          if (!dataTable) return;\n",
              "\n",
              "          const docLinkHtml = 'Like what you see? Visit the ' +\n",
              "            '<a target=\"_blank\" href=https://colab.research.google.com/notebooks/data_table.ipynb>data table notebook</a>'\n",
              "            + ' to learn more about interactive tables.';\n",
              "          element.innerHTML = '';\n",
              "          dataTable['output_type'] = 'display_data';\n",
              "          await google.colab.output.renderOutput(dataTable, element);\n",
              "          const docLink = document.createElement('div');\n",
              "          docLink.innerHTML = docLinkHtml;\n",
              "          element.appendChild(docLink);\n",
              "        }\n",
              "      </script>\n",
              "    </div>\n",
              "  </div>\n",
              "  "
            ]
          },
          "metadata": {},
          "execution_count": 29
        }
      ]
    },
    {
      "cell_type": "code",
      "source": [
        "## Graph which shows No of students in specific district  \n",
        "\n",
        "fig = plt.figure(figsize=(20,10))\n",
        "plt.plot(new_df['LEA_ENR'],new_df['LEA_NAME'])\n",
        "plt.show()"
      ],
      "metadata": {
        "colab": {
          "base_uri": "https://localhost:8080/",
          "height": 605
        },
        "id": "vXPBJZkYCB72",
        "outputId": "dfe7ba23-b929-47a3-d7f3-996435dff5e3"
      },
      "execution_count": 31,
      "outputs": [
        {
          "output_type": "display_data",
          "data": {
            "text/plain": [
              "<Figure size 1440x720 with 1 Axes>"
            ],
            "image/png": "[encoded data removed]"
          },
          "metadata": {
            "needs_background": "light"
          }
        }
      ]
    },
    {
      "cell_type": "code",
      "source": [
        "## count the number of student participated in GED based on races\n",
        "\n",
        "df = dataset[['LEA_NAME', 'LEA_GEDPART_HI_M', 'LEA_GEDPART_HI_F', 'LEA_GEDPART_AM_M','LEA_GEDPART_AM_F', \n",
        "              'LEA_GEDPART_AS_M', 'LEA_GEDPART_AS_F', 'LEA_GEDPART_HP_M', 'LEA_GEDPART_HP_F', 'LEA_GEDPART_BL_M', 'LEA_GEDPART_BL_F',\n",
        "              'LEA_GEDPART_WH_M','LEA_GEDPART_WH_F','LEA_GEDPART_TR_M', 'LEA_GEDPART_TR_F']]\n",
        "\n",
        "## We have negative values in the dataset so we convert them into positive values as number of participants never be negative.\n",
        "df = df.iloc[:,1:].apply(abs)\n",
        "\n",
        "males = [sum(df['LEA_GEDPART_HI_M']), sum(df['LEA_GEDPART_AM_M']), sum(df['LEA_GEDPART_AS_M']), sum(df['LEA_GEDPART_HP_M']),\n",
        "         sum(df['LEA_GEDPART_BL_M']), sum(df['LEA_GEDPART_WH_M']), sum(df['LEA_GEDPART_TR_M'])]\n",
        "\n",
        "females = [sum(df['LEA_GEDPART_HI_F']), sum(df['LEA_GEDPART_AM_F']), sum(df['LEA_GEDPART_AS_F']), sum(df['LEA_GEDPART_HP_F']),\n",
        "         sum(df['LEA_GEDPART_BL_F']), sum(df['LEA_GEDPART_WH_F']), sum(df['LEA_GEDPART_TR_F'])]\n",
        "\n",
        "race = ['Hispanic', 'American Indian/Alaska Native', 'Asian', 'Native Hawaiian/Pacific Islander', 'Black', 'White', 'Other']\n",
        "\n"
      ],
      "metadata": {
        "id": "e3KFe7pcCO_q"
      },
      "execution_count": 44,
      "outputs": []
    },
    {
      "cell_type": "code",
      "source": [
        "\n",
        "fig = plt.figure(figsize=(20, 10))\n",
        "plt.bar(race, males, color='r')\n",
        "plt.bar(race, males, bottom=females, color='b')\n",
        "plt.show()"
      ],
      "metadata": {
        "colab": {
          "base_uri": "https://localhost:8080/",
          "height": 592
        },
        "id": "NOsQVe0ehjn8",
        "outputId": "de1e97f7-7932-4857-cc38-bb99e53ebdb8"
      },
      "execution_count": 47,
      "outputs": [
        {
          "output_type": "display_data",
          "data": {
            "text/plain": [
              "<Figure size 1440x720 with 1 Axes>"
            ],
            "image/png": "[encoded data removed]"
          },
          "metadata": {
            "needs_background": "light"
          }
        }
      ]
    },
    {
      "cell_type": "code",
      "source": [
        "## Students receiving a high school equivalency credential based on race\n",
        "\n",
        "df = dataset[['LEA_NAME', 'LEA_GEDCRED_HI_M', 'LEA_GEDCRED_HI_F', 'LEA_GEDCRED_AM_M', 'LEA_GEDCRED_AM_F', 'LEA_GEDCRED_AS_M',\n",
        "              'LEA_GEDCRED_AS_F', 'LEA_GEDCRED_HP_M', 'LEA_GEDCRED_HP_F', 'LEA_GEDCRED_BL_M', 'LEA_GEDCRED_BL_F', 'LEA_GEDCRED_WH_M',\n",
        "              'LEA_GEDCRED_WH_F', 'LEA_GEDCRED_TR_M', 'LEA_GEDCRED_TR_F']]\n",
        "\n",
        "## We have negative values in the dataset so we convert them into positive values as number of participants never be negative.\n",
        "df = df.iloc[:,1:].apply(abs)\n",
        "\n",
        "\n",
        "males = [sum(df['LEA_GEDCRED_HI_M']), sum(df['LEA_GEDCRED_AM_M']), sum(df['LEA_GEDCRED_AS_M']), sum(df['LEA_GEDCRED_HP_M']),\n",
        "         sum(df['LEA_GEDCRED_BL_M']), sum(df['LEA_GEDCRED_WH_M']), sum(df['LEA_GEDCRED_TR_M'])]\n",
        "\n",
        "females = [sum(df['LEA_GEDCRED_HI_F']), sum(df['LEA_GEDCRED_AM_F']), sum(df['LEA_GEDCRED_AS_F']), sum(df['LEA_GEDCRED_HP_F']),\n",
        "         sum(df['LEA_GEDCRED_BL_F']), sum(df['LEA_GEDCRED_WH_F']), sum(df['LEA_GEDCRED_TR_F'])]\n",
        "\n",
        "race = ['Hispanic', 'American Indian/Alaska Native', 'Asian', 'Native Hawaiian/Pacific Islander', 'Black', 'White', 'Other']\n"
      ],
      "metadata": {
        "id": "v04h9VkXhubc"
      },
      "execution_count": 51,
      "outputs": []
    },
    {
      "cell_type": "code",
      "source": [
        "\n",
        "fig = plt.figure(figsize=(20, 10))\n",
        "plt.bar(race, males, color='r')\n",
        "plt.bar(race, males, bottom=females, color='b')\n",
        "plt.show()"
      ],
      "metadata": {
        "colab": {
          "base_uri": "https://localhost:8080/",
          "height": 592
        },
        "id": "lEwZCCIIhzON",
        "outputId": "2289ee7e-b4e4-4e5d-f827-d3a4618a6457"
      },
      "execution_count": 52,
      "outputs": [
        {
          "output_type": "display_data",
          "data": {
            "text/plain": [
              "<Figure size 1440x720 with 1 Axes>"
            ],
            "image/png": "[encoded data removed]"
          },
          "metadata": {
            "needs_background": "light"
          }
        }
      ]
    },
    {
      "cell_type": "code",
      "source": [
        "## get the details of total number of participants and number of GED credentials earned. \n",
        "\n",
        "df = dataset[['LEA_NAME', 'TOT_GEDPART_M', 'TOT_GEDPART_F', 'TOT_GEDCRED_M','TOT_GEDCRED_F']]\n",
        "\n",
        "## We have negative values in the dataset so we convert them into positive values as number of participants never be negative.\n",
        "df = df.iloc[:,1:].apply(abs)\n",
        "\n",
        "males = [sum(df['TOT_GEDPART_M']), sum(df['TOT_GEDCRED_M'])]\n",
        "females = [sum(df['TOT_GEDPART_F']), sum(df['TOT_GEDCRED_F'])]\n",
        "\n",
        "label = ['Students who participates in GED', 'Students who earned GED credentials']"
      ],
      "metadata": {
        "id": "JjGKlVOVlJgM"
      },
      "execution_count": 54,
      "outputs": []
    },
    {
      "cell_type": "code",
      "source": [
        "\n",
        "fig = plt.figure(figsize=(20, 10))\n",
        "plt.bar(label, males, color='r')\n",
        "plt.bar(label, males, bottom=females, color='b')\n",
        "plt.show()"
      ],
      "metadata": {
        "colab": {
          "base_uri": "https://localhost:8080/",
          "height": 592
        },
        "id": "C-2yhBdEnzT5",
        "outputId": "76d5974e-3a78-463a-9848-ab4e42c8167d"
      },
      "execution_count": 55,
      "outputs": [
        {
          "output_type": "display_data",
          "data": {
            "text/plain": [
              "<Figure size 1440x720 with 1 Axes>"
            ],
            "image/png": "[encoded data removed]"
          },
          "metadata": {
            "needs_background": "light"
          }
        }
      ]
    },
    {
      "cell_type": "code",
      "source": [
        "## Explore other dataset \n",
        "\n",
        "dataset = pd.read_csv('/content/drive/MyDrive/UP-STAT/CRDC2013_14_SCH.csv', encoding='latin1')"
      ],
      "metadata": {
        "colab": {
          "base_uri": "https://localhost:8080/"
        },
        "id": "zE-dX1btn7vf",
        "outputId": "a7686a5f-109e-4cf9-ca25-1a3094c6aad1"
      },
      "execution_count": 56,
      "outputs": [
        {
          "output_type": "stream",
          "name": "stderr",
          "text": [
            "/usr/local/lib/python3.7/dist-packages/IPython/core/interactiveshell.py:2882: DtypeWarning: Columns (3,4,9,26,27,28,33,34,533,1926) have mixed types.Specify dtype option on import or set low_memory=False.\n",
            "  exec(code_obj, self.user_global_ns, self.user_ns)\n"
          ]
        }
      ]
    },
    {
      "cell_type": "code",
      "source": [
        "dataset.head()"
      ],
      "metadata": {
        "colab": {
          "base_uri": "https://localhost:8080/",
          "height": 438
        },
        "id": "wty50mzSpkC4",
        "outputId": "a755b1ff-8de6-4801-f269-6249b1a80d89"
      },
      "execution_count": 57,
      "outputs": [
        {
          "output_type": "execute_result",
          "data": {
            "text/plain": [
              "  LEA_STATE                LEA_NAME                       SCH_NAME  \\\n",
              "0        AL  ALABAMA YOUTH SERVICES  WALLACE SCH - MT MEIGS CAMPUS   \n",
              "1        AL  ALABAMA YOUTH SERVICES      MCNEEL SCH - VACCA CAMPUS   \n",
              "2        AL           ALA YOUTH SER                 AUTAUGA CAMPUS   \n",
              "3        AL        ALBERTVILLE CITY          ALA AVENUE MIDDLE SCH   \n",
              "4        AL        ALBERTVILLE CITY           ALBERTVILLE HIGH SCH   \n",
              "\n",
              "      COMBOKEY   LEAID  SCHID   JJ  CCD_LATCOD  CCD_LONCOD NCES_SCHOOL_ID  \\\n",
              "0  10000201705  100002   1705  YES     32.3748    -86.0824  10000201705.0   \n",
              "1  10000201706  100002   1706  YES     33.5867    -86.7106  10000201706.0   \n",
              "2  10000299995  100002  99995  YES         NaN         NaN            NaN   \n",
              "3  10000500870  100005    870   NO     34.2602    -86.2062  10000500870.0   \n",
              "4  10000500871  100005    871   NO     34.2622    -86.2049  10000500871.0   \n",
              "\n",
              "   ... SCH_FTE_TEACH_WOFED SCH_SAL_TEACH_WOFED SCH_NPE_WOFED  \\\n",
              "0  ...               29.00            65000.00      139000.0   \n",
              "1  ...               21.00           473000.00      134000.0   \n",
              "2  ...                0.00               -9.00         102.0   \n",
              "3  ...               28.64          1441033.00      160221.0   \n",
              "4  ...               57.64          3018949.56     1011572.0   \n",
              "\n",
              "  DSO_SCH_FTE_TEACH_WOFED DSO_SCH_NPE_WOFED DSO_SCH_SAL_INSTR_WOFED  \\\n",
              "0                       0                 0                       0   \n",
              "1                       0                 0                       0   \n",
              "2                       0                 0                       0   \n",
              "3                       0                 0                       0   \n",
              "4                       0                 0                       0   \n",
              "\n",
              "  DSO_SCH_SAL_TEACH_WOFED SCH_JJTYPE SCH_JJSYDAYS SCH_JJHOURS  \n",
              "0                       0       POST          220          35  \n",
              "1                       0       POST          220          35  \n",
              "2                       0       POST          220          35  \n",
              "3                       0         -9           -9          -9  \n",
              "4                       0         -9           -9          -9  \n",
              "\n",
              "[5 rows x 1929 columns]"
            ],
            "text/html": [
              "\n",
              "  <div id=\"df-b921035b-b537-4113-9669-a5e913e7a27f\">\n",
              "    <div class=\"colab-df-container\">\n",
              "      <div>\n",
              "<style scoped>\n",
              "    .dataframe tbody tr th:only-of-type {\n",
              "        vertical-align: middle;\n",
              "    }\n",
              "\n",
              "    .dataframe tbody tr th {\n",
              "        vertical-align: top;\n",
              "    }\n",
              "\n",
              "    .dataframe thead th {\n",
              "        text-align: right;\n",
              "    }\n",
              "</style>\n",
              "<table border=\"1\" class=\"dataframe\">\n",
              "  <thead>\n",
              "    <tr style=\"text-align: right;\">\n",
              "      <th></th>\n",
              "      <th>LEA_STATE</th>\n",
              "      <th>LEA_NAME</th>\n",
              "      <th>SCH_NAME</th>\n",
              "      <th>COMBOKEY</th>\n",
              "      <th>LEAID</th>\n",
              "      <th>SCHID</th>\n",
              "      <th>JJ</th>\n",
              "      <th>CCD_LATCOD</th>\n",
              "      <th>CCD_LONCOD</th>\n",
              "      <th>NCES_SCHOOL_ID</th>\n",
              "      <th>...</th>\n",
              "      <th>SCH_FTE_TEACH_WOFED</th>\n",
              "      <th>SCH_SAL_TEACH_WOFED</th>\n",
              "      <th>SCH_NPE_WOFED</th>\n",
              "      <th>DSO_SCH_FTE_TEACH_WOFED</th>\n",
              "      <th>DSO_SCH_NPE_WOFED</th>\n",
              "      <th>DSO_SCH_SAL_INSTR_WOFED</th>\n",
              "      <th>DSO_SCH_SAL_TEACH_WOFED</th>\n",
              "      <th>SCH_JJTYPE</th>\n",
              "      <th>SCH_JJSYDAYS</th>\n",
              "      <th>SCH_JJHOURS</th>\n",
              "    </tr>\n",
              "  </thead>\n",
              "  <tbody>\n",
              "    <tr>\n",
              "      <th>0</th>\n",
              "      <td>AL</td>\n",
              "      <td>ALABAMA YOUTH SERVICES</td>\n",
              "      <td>WALLACE SCH - MT MEIGS CAMPUS</td>\n",
              "      <td>10000201705</td>\n",
              "      <td>100002</td>\n",
              "      <td>1705</td>\n",
              "      <td>YES</td>\n",
              "      <td>32.3748</td>\n",
              "      <td>-86.0824</td>\n",
              "      <td>10000201705.0</td>\n",
              "      <td>...</td>\n",
              "      <td>29.00</td>\n",
              "      <td>65000.00</td>\n",
              "      <td>139000.0</td>\n",
              "      <td>0</td>\n",
              "      <td>0</td>\n",
              "      <td>0</td>\n",
              "      <td>0</td>\n",
              "      <td>POST</td>\n",
              "      <td>220</td>\n",
              "      <td>35</td>\n",
              "    </tr>\n",
              "    <tr>\n",
              "      <th>1</th>\n",
              "      <td>AL</td>\n",
              "      <td>ALABAMA YOUTH SERVICES</td>\n",
              "      <td>MCNEEL SCH - VACCA CAMPUS</td>\n",
              "      <td>10000201706</td>\n",
              "      <td>100002</td>\n",
              "      <td>1706</td>\n",
              "      <td>YES</td>\n",
              "      <td>33.5867</td>\n",
              "      <td>-86.7106</td>\n",
              "      <td>10000201706.0</td>\n",
              "      <td>...</td>\n",
              "      <td>21.00</td>\n",
              "      <td>473000.00</td>\n",
              "      <td>134000.0</td>\n",
              "      <td>0</td>\n",
              "      <td>0</td>\n",
              "      <td>0</td>\n",
              "      <td>0</td>\n",
              "      <td>POST</td>\n",
              "      <td>220</td>\n",
              "      <td>35</td>\n",
              "    </tr>\n",
              "    <tr>\n",
              "      <th>2</th>\n",
              "      <td>AL</td>\n",
              "      <td>ALA YOUTH SER</td>\n",
              "      <td>AUTAUGA CAMPUS</td>\n",
              "      <td>10000299995</td>\n",
              "      <td>100002</td>\n",
              "      <td>99995</td>\n",
              "      <td>YES</td>\n",
              "      <td>NaN</td>\n",
              "      <td>NaN</td>\n",
              "      <td>NaN</td>\n",
              "      <td>...</td>\n",
              "      <td>0.00</td>\n",
              "      <td>-9.00</td>\n",
              "      <td>102.0</td>\n",
              "      <td>0</td>\n",
              "      <td>0</td>\n",
              "      <td>0</td>\n",
              "      <td>0</td>\n",
              "      <td>POST</td>\n",
              "      <td>220</td>\n",
              "      <td>35</td>\n",
              "    </tr>\n",
              "    <tr>\n",
              "      <th>3</th>\n",
              "      <td>AL</td>\n",
              "      <td>ALBERTVILLE CITY</td>\n",
              "      <td>ALA AVENUE MIDDLE SCH</td>\n",
              "      <td>10000500870</td>\n",
              "      <td>100005</td>\n",
              "      <td>870</td>\n",
              "      <td>NO</td>\n",
              "      <td>34.2602</td>\n",
              "      <td>-86.2062</td>\n",
              "      <td>10000500870.0</td>\n",
              "      <td>...</td>\n",
              "      <td>28.64</td>\n",
              "      <td>1441033.00</td>\n",
              "      <td>160221.0</td>\n",
              "      <td>0</td>\n",
              "      <td>0</td>\n",
              "      <td>0</td>\n",
              "      <td>0</td>\n",
              "      <td>-9</td>\n",
              "      <td>-9</td>\n",
              "      <td>-9</td>\n",
              "    </tr>\n",
              "    <tr>\n",
              "      <th>4</th>\n",
              "      <td>AL</td>\n",
              "      <td>ALBERTVILLE CITY</td>\n",
              "      <td>ALBERTVILLE HIGH SCH</td>\n",
              "      <td>10000500871</td>\n",
              "      <td>100005</td>\n",
              "      <td>871</td>\n",
              "      <td>NO</td>\n",
              "      <td>34.2622</td>\n",
              "      <td>-86.2049</td>\n",
              "      <td>10000500871.0</td>\n",
              "      <td>...</td>\n",
              "      <td>57.64</td>\n",
              "      <td>3018949.56</td>\n",
              "      <td>1011572.0</td>\n",
              "      <td>0</td>\n",
              "      <td>0</td>\n",
              "      <td>0</td>\n",
              "      <td>0</td>\n",
              "      <td>-9</td>\n",
              "      <td>-9</td>\n",
              "      <td>-9</td>\n",
              "    </tr>\n",
              "  </tbody>\n",
              "</table>\n",
              "<p>5 rows × 1929 columns</p>\n",
              "</div>\n",
              "      <button class=\"colab-df-convert\" onclick=\"convertToInteractive('df-b921035b-b537-4113-9669-a5e913e7a27f')\"\n",
              "              title=\"Convert this dataframe to an interactive table.\"\n",
              "              style=\"display:none;\">\n",
              "        \n",
              "  <svg xmlns=\"http://www.w3.org/2000/svg\" height=\"24px\"viewBox=\"0 0 24 24\"\n",
              "       width=\"24px\">\n",
              "    <path d=\"M0 0h24v24H0V0z\" fill=\"none\"/>\n",
              "    <path d=\"M18.56 5.44l.94 2.06.94-2.06 2.06-.94-2.06-.94-.94-2.06-.94 2.06-2.06.94zm-11 1L8.5 8.5l.94-2.06 2.06-.94-2.06-.94L8.5 2.5l-.94 2.06-2.06.94zm10 10l.94 2.06.94-2.06 2.06-.94-2.06-.94-.94-2.06-.94 2.06-2.06.94z\"/><path d=\"M17.41 7.96l-1.37-1.37c-.4-.4-.92-.59-1.43-.59-.52 0-1.04.2-1.43.59L10.3 9.45l-7.72 7.72c-.78.78-.78 2.05 0 2.83L4 21.41c.39.39.9.59 1.41.59.51 0 1.02-.2 1.41-.59l7.78-7.78 2.81-2.81c.8-.78.8-2.07 0-2.86zM5.41 20L4 18.59l7.72-7.72 1.47 1.35L5.41 20z\"/>\n",
              "  </svg>\n",
              "      </button>\n",
              "      \n",
              "  <style>\n",
              "    .colab-df-container {\n",
              "      display:flex;\n",
              "      flex-wrap:wrap;\n",
              "      gap: 12px;\n",
              "    }\n",
              "\n",
              "    .colab-df-convert {\n",
              "      background-color: #E8F0FE;\n",
              "      border: none;\n",
              "      border-radius: 50%;\n",
              "      cursor: pointer;\n",
              "      display: none;\n",
              "      fill: #1967D2;\n",
              "      height: 32px;\n",
              "      padding: 0 0 0 0;\n",
              "      width: 32px;\n",
              "    }\n",
              "\n",
              "    .colab-df-convert:hover {\n",
              "      background-color: #E2EBFA;\n",
              "      box-shadow: 0px 1px 2px rgba(60, 64, 67, 0.3), 0px 1px 3px 1px rgba(60, 64, 67, 0.15);\n",
              "      fill: #174EA6;\n",
              "    }\n",
              "\n",
              "    [theme=dark] .colab-df-convert {\n",
              "      background-color: #3B4455;\n",
              "      fill: #D2E3FC;\n",
              "    }\n",
              "\n",
              "    [theme=dark] .colab-df-convert:hover {\n",
              "      background-color: #434B5C;\n",
              "      box-shadow: 0px 1px 3px 1px rgba(0, 0, 0, 0.15);\n",
              "      filter: drop-shadow(0px 1px 2px rgba(0, 0, 0, 0.3));\n",
              "      fill: #FFFFFF;\n",
              "    }\n",
              "  </style>\n",
              "\n",
              "      <script>\n",
              "        const buttonEl =\n",
              "          document.querySelector('#df-b921035b-b537-4113-9669-a5e913e7a27f button.colab-df-convert');\n",
              "        buttonEl.style.display =\n",
              "          google.colab.kernel.accessAllowed ? 'block' : 'none';\n",
              "\n",
              "        async function convertToInteractive(key) {\n",
              "          const element = document.querySelector('#df-b921035b-b537-4113-9669-a5e913e7a27f');\n",
              "          const dataTable =\n",
              "            await google.colab.kernel.invokeFunction('convertToInteractive',\n",
              "                                                     [key], {});\n",
              "          if (!dataTable) return;\n",
              "\n",
              "          const docLinkHtml = 'Like what you see? Visit the ' +\n",
              "            '<a target=\"_blank\" href=https://colab.research.google.com/notebooks/data_table.ipynb>data table notebook</a>'\n",
              "            + ' to learn more about interactive tables.';\n",
              "          element.innerHTML = '';\n",
              "          dataTable['output_type'] = 'display_data';\n",
              "          await google.colab.output.renderOutput(dataTable, element);\n",
              "          const docLink = document.createElement('div');\n",
              "          docLink.innerHTML = docLinkHtml;\n",
              "          element.appendChild(docLink);\n",
              "        }\n",
              "      </script>\n",
              "    </div>\n",
              "  </div>\n",
              "  "
            ]
          },
          "metadata": {},
          "execution_count": 57
        }
      ]
    },
    {
      "cell_type": "code",
      "source": [
        "## Students preschool enrollment based on race\n",
        "\n",
        "df = dataset[['LEA_NAME', 'SCH_PSENR_HI_M', 'SCH_PSENR_HI_F', 'SCH_PSENR_AM_M', 'SCH_PSENR_AM_F', 'SCH_PSENR_AS_M',\n",
        "              'SCH_PSENR_AS_F', 'SCH_PSENR_HP_M', 'SCH_PSENR_HP_F', 'SCH_PSENR_BL_M', 'SCH_PSENR_BL_F', 'SCH_PSENR_WH_M',\n",
        "              'SCH_PSENR_WH_F', 'SCH_PSENR_TR_M', 'SCH_PSENR_TR_F']]\n",
        "\n",
        "## We have negative values in the dataset so we convert them into positive values as number of participants never be negative.\n",
        "df = df.iloc[:,1:].apply(abs)\n",
        "\n",
        "\n",
        "males = [sum(df['SCH_PSENR_HI_M']), sum(df['SCH_PSENR_AM_M']), sum(df['SCH_PSENR_AS_M']), sum(df['SCH_PSENR_HP_M']),\n",
        "         sum(df['SCH_PSENR_BL_M']), sum(df['SCH_PSENR_WH_M']), sum(df['SCH_PSENR_TR_M'])]\n",
        "\n",
        "females = [sum(df['SCH_PSENR_HI_F']), sum(df['SCH_PSENR_AM_F']), sum(df['SCH_PSENR_AS_F']), sum(df['SCH_PSENR_HP_F']),\n",
        "         sum(df['SCH_PSENR_BL_F']), sum(df['SCH_PSENR_WH_F']), sum(df['SCH_PSENR_TR_F'])]\n",
        "\n",
        "race = ['Hispanic', 'American Indian/Alaska Native', 'Asian', 'Native Hawaiian/Pacific Islander', 'Black', 'White', 'Other']\n"
      ],
      "metadata": {
        "id": "P_lwqQB4puaO"
      },
      "execution_count": 58,
      "outputs": []
    },
    {
      "cell_type": "code",
      "source": [
        "\n",
        "fig = plt.figure(figsize=(20, 10))\n",
        "plt.bar(race, males, color='r')\n",
        "plt.bar(race, males, bottom=females, color='b')\n",
        "plt.show()"
      ],
      "metadata": {
        "colab": {
          "base_uri": "https://localhost:8080/",
          "height": 602
        },
        "id": "0L-5qTvW1HTo",
        "outputId": "6fd26543-e30c-4a58-a7ae-ba425e2488de"
      },
      "execution_count": 59,
      "outputs": [
        {
          "output_type": "display_data",
          "data": {
            "text/plain": [
              "<Figure size 1440x720 with 1 Axes>"
            ],
            "image/png": "[encoded data removed]"
          },
          "metadata": {
            "needs_background": "light"
          }
        }
      ]
    },
    {
      "cell_type": "code",
      "source": [
        "## Overall Students enrollment based on race\n",
        "\n",
        "df = dataset[['LEA_NAME', 'SCH_ENR_HI_M', 'SCH_ENR_HI_F', 'SCH_ENR_AM_M', 'SCH_ENR_AM_F', 'SCH_ENR_AS_M',\n",
        "              'SCH_ENR_AS_F', 'SCH_ENR_HP_M', 'SCH_ENR_HP_F', 'SCH_ENR_BL_M', 'SCH_ENR_BL_F', 'SCH_ENR_WH_M',\n",
        "              'SCH_ENR_WH_F', 'SCH_ENR_TR_M', 'SCH_ENR_TR_F']]\n",
        "\n",
        "## We have negative values in the dataset so we convert them into positive values as number of participants never be negative.\n",
        "df = df.iloc[:,1:].apply(abs)\n",
        "\n",
        "\n",
        "males = [sum(df['SCH_ENR_HI_M']), sum(df['SCH_ENR_AM_M']), sum(df['SCH_ENR_AS_M']), sum(df['SCH_ENR_HP_M']),\n",
        "         sum(df['SCH_ENR_BL_M']), sum(df['SCH_ENR_WH_M']), sum(df['SCH_ENR_TR_M'])]\n",
        "\n",
        "females = [sum(df['SCH_ENR_HI_F']), sum(df['SCH_ENR_AM_F']), sum(df['SCH_ENR_AS_F']), sum(df['SCH_ENR_HP_F']),\n",
        "         sum(df['SCH_ENR_BL_F']), sum(df['SCH_ENR_WH_F']), sum(df['SCH_ENR_TR_F'])]\n",
        "\n",
        "race = ['Hispanic', 'American Indian/Alaska Native', 'Asian', 'Native Hawaiian/Pacific Islander', 'Black', 'White', 'Other']\n"
      ],
      "metadata": {
        "id": "ac2pcATC1LgY"
      },
      "execution_count": 60,
      "outputs": []
    },
    {
      "cell_type": "code",
      "source": [
        "\n",
        "fig = plt.figure(figsize=(20, 10))\n",
        "plt.bar(race, males, color='r')\n",
        "plt.bar(race, males, bottom=females, color='b')\n",
        "plt.show()"
      ],
      "metadata": {
        "colab": {
          "base_uri": "https://localhost:8080/",
          "height": 602
        },
        "id": "CVAvl6Lt4R-s",
        "outputId": "dde9272a-d4cc-4081-fc47-735f0e47f083"
      },
      "execution_count": 61,
      "outputs": [
        {
          "output_type": "display_data",
          "data": {
            "text/plain": [
              "<Figure size 1440x720 with 1 Axes>"
            ],
            "image/png": "[encoded data removed]"
          },
          "metadata": {
            "needs_background": "light"
          }
        }
      ]
    },
    {
      "cell_type": "code",
      "source": [
        "## Enrollment of Students who are Limited English Proficient \n",
        "\n",
        "\n",
        "df = dataset[['LEA_NAME', 'SCH_LEPENR_HI_M', 'SCH_LEPENR_HI_F', 'SCH_LEPENR_AM_M', 'SCH_LEPENR_AM_F', 'SCH_LEPENR_AS_M',\n",
        "              'SCH_LEPENR_AS_F', 'SCH_LEPENR_HP_M', 'SCH_LEPENR_HP_F', 'SCH_LEPENR_BL_M', 'SCH_LEPENR_BL_F', 'SCH_LEPENR_WH_M',\n",
        "              'SCH_LEPENR_WH_F', 'SCH_LEPENR_TR_M', 'SCH_LEPENR_TR_F']]\n",
        "\n",
        "## We have negative values in the dataset so we convert them into positive values as number of participants never be negative.\n",
        "df = df.iloc[:,1:].apply(abs)\n",
        "\n",
        "\n",
        "males = [sum(df['SCH_LEPENR_HI_M']), sum(df['SCH_LEPENR_AM_M']), sum(df['SCH_LEPENR_AS_M']), sum(df['SCH_LEPENR_HP_M']),\n",
        "         sum(df['SCH_LEPENR_BL_M']), sum(df['SCH_LEPENR_WH_M']), sum(df['SCH_LEPENR_TR_M'])]\n",
        "\n",
        "females = [sum(df['SCH_LEPENR_HI_F']), sum(df['SCH_LEPENR_AM_F']), sum(df['SCH_LEPENR_AS_F']), sum(df['SCH_LEPENR_HP_F']),\n",
        "         sum(df['SCH_LEPENR_BL_F']), sum(df['SCH_LEPENR_WH_F']), sum(df['SCH_LEPENR_TR_F'])]\n",
        "\n",
        "race = ['Hispanic', 'American Indian/Alaska Native', 'Asian', 'Native Hawaiian/Pacific Islander', 'Black', 'White', 'Other']\n"
      ],
      "metadata": {
        "id": "iU8Sc_2p4UWA"
      },
      "execution_count": 62,
      "outputs": []
    },
    {
      "cell_type": "code",
      "source": [
        "\n",
        "fig = plt.figure(figsize=(20, 10))\n",
        "plt.bar(race, males, color='r')\n",
        "plt.bar(race, males, bottom=females, color='b')\n",
        "plt.show()"
      ],
      "metadata": {
        "colab": {
          "base_uri": "https://localhost:8080/",
          "height": 602
        },
        "id": "f3zfaLAm55n5",
        "outputId": "46a4db27-7d64-4a58-a5ba-f1cf143a8c6e"
      },
      "execution_count": 63,
      "outputs": [
        {
          "output_type": "display_data",
          "data": {
            "text/plain": [
              "<Figure size 1440x720 with 1 Axes>"
            ],
            "image/png": "[encoded data removed]"
          },
          "metadata": {
            "needs_background": "light"
          }
        }
      ]
    },
    {
      "cell_type": "code",
      "source": [
        "## Students with disabilities served under IDEA\n",
        "\n",
        "df = dataset[['LEA_NAME', 'SCH_IDEAENR_HI_M', 'SCH_IDEAENR_HI_F', 'SCH_IDEAENR_AM_M', 'SCH_IDEAENR_AM_F', 'SCH_IDEAENR_AS_M',\n",
        "              'SCH_IDEAENR_AS_F', 'SCH_IDEAENR_HP_M', 'SCH_IDEAENR_HP_F', 'SCH_IDEAENR_BL_M', 'SCH_IDEAENR_BL_F', 'SCH_IDEAENR_WH_M',\n",
        "              'SCH_IDEAENR_WH_F', 'SCH_IDEAENR_TR_M', 'SCH_IDEAENR_TR_F']]\n",
        "\n",
        "## We have negative values in the dataset so we convert them into positive values as number of participants never be negative.\n",
        "df = df.iloc[:,1:].apply(abs)\n",
        "\n",
        "\n",
        "males = [sum(df['SCH_IDEAENR_HI_M']), sum(df['SCH_IDEAENR_AM_M']), sum(df['SCH_IDEAENR_AS_M']), sum(df['SCH_IDEAENR_HP_M']),\n",
        "         sum(df['SCH_IDEAENR_BL_M']), sum(df['SCH_IDEAENR_WH_M']), sum(df['SCH_IDEAENR_TR_M'])]\n",
        "\n",
        "females = [sum(df['SCH_IDEAENR_HI_F']), sum(df['SCH_IDEAENR_AM_F']), sum(df['SCH_IDEAENR_AS_F']), sum(df['SCH_IDEAENR_HP_F']),\n",
        "         sum(df['SCH_IDEAENR_BL_F']), sum(df['SCH_IDEAENR_WH_F']), sum(df['SCH_IDEAENR_TR_F'])]\n",
        "\n",
        "race = ['Hispanic', 'American Indian/Alaska Native', 'Asian', 'Native Hawaiian/Pacific Islander', 'Black', 'White', 'Other']\n",
        "\n",
        "\n",
        "\n",
        "fig = plt.figure(figsize=(20, 10))\n",
        "plt.bar(race, males, color='r')\n",
        "plt.bar(race, males, bottom=females, color='b')\n",
        "plt.show()"
      ],
      "metadata": {
        "colab": {
          "base_uri": "https://localhost:8080/",
          "height": 602
        },
        "id": "66QezB1I57Qn",
        "outputId": "8430945d-f5ff-4635-dd77-c7c2299c5709"
      },
      "execution_count": 64,
      "outputs": [
        {
          "output_type": "display_data",
          "data": {
            "text/plain": [
              "<Figure size 1440x720 with 1 Axes>"
            ],
            "image/png": "[encoded data removed]"
          },
          "metadata": {
            "needs_background": "light"
          }
        }
      ]
    },
    {
      "cell_type": "code",
      "source": [
        ""
      ],
      "metadata": {
        "id": "FJtTucW-79x4"
      },
      "execution_count": null,
      "outputs": []
    }
  ]
}